{
 "cells": [
  {
   "cell_type": "code",
   "execution_count": 1,
   "metadata": {
    "collapsed": true
   },
   "outputs": [],
   "source": [
    "#!/usr/bin/env python\n",
    "# vim:fileencoding=utf-8\n",
    "import sys\n",
    "import numpy as np\n",
    "import matplotlib.pyplot as plt\n",
    "import soundfile as sf\n",
    "import matplotlib\n",
    "import pandas as pd\n",
    "\n",
    "#データセットの分割\n",
    "from sklearn.model_selection import train_test_split"
   ]
  },
  {
   "cell_type": "code",
   "execution_count": 2,
   "metadata": {},
   "outputs": [
    {
     "name": "stderr",
     "output_type": "stream",
     "text": [
      "C:\\Users\\AdminUser\\Anaconda2\\lib\\site-packages\\h5py\\__init__.py:34: FutureWarning: Conversion of the second argument of issubdtype from `float` to `np.floating` is deprecated. In future, it will be treated as `np.float64 == np.dtype(float).type`.\n",
      "  from ._conv import register_converters as _register_converters\n",
      "Using Theano backend.\n"
     ]
    }
   ],
   "source": [
    "#深層学習ライブラリ\n",
    "from keras.models import Sequential\n",
    "from keras.layers.core import Dense, Activation\n",
    "from keras.layers.recurrent import SimpleRNN\n",
    "from keras.optimizers import Adam\n",
    "from keras.callbacks import EarlyStopping"
   ]
  },
  {
   "cell_type": "code",
   "execution_count": 3,
   "metadata": {
    "collapsed": true
   },
   "outputs": [],
   "source": [
    "#音楽ファイル\n",
    "Music_file = './Input/02_Business/NHKBusiness.wav'\n",
    "Music_noise_file = './Output/Signal_Reconstruction_0.18.1/NHKBusiness_brownnoiseWH_write_Matrix_50.wav'\n",
    "\n",
    "MusicType = 'NHK Business'\n",
    "MusicFileName = 'NHKBusiness'\n",
    "NoiseType = 'Brownnoise(Reconstruction)'"
   ]
  },
  {
   "cell_type": "code",
   "execution_count": null,
   "metadata": {
    "collapsed": true
   },
   "outputs": [],
   "source": []
  },
  {
   "cell_type": "code",
   "execution_count": 4,
   "metadata": {
    "collapsed": true
   },
   "outputs": [],
   "source": [
    "# wavファイル読み込み\n",
    "Music_wav, Music_fs = sf.read(Music_file)\n",
    "\n",
    "# ステレオ2chの場合、モノラル音源に変換(左右の各音を2で割った音を足して作成．)\n",
    "if(Music_wav.shape[1] == 1):\n",
    "    Music_wavdata = Music_wav\n",
    "    print(Music_wav.shape[1])\n",
    "else:\n",
    "    Music_wavdata = (0.5 * Music_wav[:, 1]) + (0.5 * Music_wav[:, 0])"
   ]
  },
  {
   "cell_type": "code",
   "execution_count": 5,
   "metadata": {
    "collapsed": true
   },
   "outputs": [],
   "source": [
    "# wavファイル読み込み\n",
    "Music_whitenoise_wav, Music_whitenoise_fs = sf.read(Music_noise_file)\n",
    "\n",
    "# ステレオ2chの場合、モノラル音源に変換(左右の各音を2で割った音を足して作成．)\n",
    "if(Music_whitenoise_wav.shape[1] == 1):\n",
    "    Music_whitenoise_wavdata = Music_whitenoise_wav\n",
    "    print(Music_whitenoise_wav.shape[1])\n",
    "else:\n",
    "    Music_whitenoise_wavdata = (0.5 * Music_whitenoise_wav[:, 1]) + (0.5 * Music_whitenoise_wav[:, 0])"
   ]
  },
  {
   "cell_type": "code",
   "execution_count": null,
   "metadata": {
    "collapsed": true
   },
   "outputs": [],
   "source": []
  },
  {
   "cell_type": "code",
   "execution_count": 6,
   "metadata": {
    "collapsed": true
   },
   "outputs": [],
   "source": [
    "#時間軸(信号の場合はLength)\n",
    "#x = range(300)\n",
    "x = range(500)\n",
    "\n",
    "#Y軸は信号データ\n",
    "#y = Music_whitenoise_wavdata[:300]\n",
    "y = Music_whitenoise_wavdata[:500]\n",
    "\n",
    "#学習のフレーム\n",
    "l = 150\n",
    "\n",
    "#関数\n",
    "#信号データと学習のフレームを使用\n",
    "def make_dataset(y, l):\n",
    "  data = []\n",
    "  target = []\n",
    "  for i in range(len(y)-l):\n",
    "    data.append(y[i:i+l])\n",
    "    target.append(y[i + l])\n",
    "  return(data, target)\n",
    "\n",
    "#関数呼び出しでデータセットを作成\n",
    "(data, target) = make_dataset(y, l)"
   ]
  },
  {
   "cell_type": "code",
   "execution_count": null,
   "metadata": {
    "collapsed": true
   },
   "outputs": [],
   "source": []
  },
  {
   "cell_type": "code",
   "execution_count": 7,
   "metadata": {
    "collapsed": true
   },
   "outputs": [],
   "source": [
    "#1フレームのデータ\n",
    "#data[0]\n",
    "#len(data[0])\n",
    "#len(data)\n",
    "#target\n",
    "#len(target)"
   ]
  },
  {
   "cell_type": "code",
   "execution_count": 8,
   "metadata": {
    "collapsed": true
   },
   "outputs": [],
   "source": [
    "#RNN用のデータセットを作成\n",
    "#ここで3次元データセットを作成しなくてはならない\n",
    "data = np.array(data).reshape(-1, l, 1)"
   ]
  },
  {
   "cell_type": "code",
   "execution_count": null,
   "metadata": {
    "collapsed": true
   },
   "outputs": [],
   "source": []
  },
  {
   "cell_type": "code",
   "execution_count": 9,
   "metadata": {},
   "outputs": [],
   "source": [
    "num_neurons = 1\n",
    "n_hidden = 200\n",
    "\n",
    "model = Sequential()\n",
    "model.add(SimpleRNN(n_hidden, batch_input_shape=(None, l, num_neurons), return_sequences=False))\n",
    "model.add(Dense(num_neurons))\n",
    "model.add(Activation('linear'))\n",
    "optimizer = Adam(lr = 0.001)\n",
    "model.compile(loss=\"mean_squared_error\", optimizer=optimizer)\n",
    "#model.compile(loss=\"mean_squared_logarithmic_error\", optimizer=optimizer)\n",
    "#model.compile(loss=\"mean_absolute_percentage_error\", optimizer=optimizer)\n",
    "#model.compile(loss=\"cosine_similarity\", optimizer=optimizer)\n",
    "#model.compile(loss=\"mean_absolute_error\", optimizer=optimizer)\n",
    "#early_stopping = EarlyStopping(monitor='val_loss', mode='auto', patience=20)\n",
    "early_stopping = EarlyStopping(monitor='val_loss', mode='min', patience=20)"
   ]
  },
  {
   "cell_type": "code",
   "execution_count": null,
   "metadata": {},
   "outputs": [
    {
     "name": "stderr",
     "output_type": "stream",
     "text": [
      "INFO (theano.gof.compilelock): Waiting for existing lock by process '6380' (I am process '4188')\n",
      "INFO (theano.gof.compilelock): To manually release the lock, delete C:\\Users\\AdminUser\\AppData\\Local\\Theano\\compiledir_Windows-7-6.1.7601-SP1-Intel64_Family_6_Model_58_Stepping_9_GenuineIntel-2.7.13-64\\lock_dir\n",
      "INFO (theano.gof.compilelock): Waiting for existing lock by process '11220' (I am process '4188')\n",
      "INFO (theano.gof.compilelock): To manually release the lock, delete C:\\Users\\AdminUser\\AppData\\Local\\Theano\\compiledir_Windows-7-6.1.7601-SP1-Intel64_Family_6_Model_58_Stepping_9_GenuineIntel-2.7.13-64\\lock_dir\n",
      "INFO (theano.gof.compilelock): Waiting for existing lock by process '11196' (I am process '4188')\n",
      "INFO (theano.gof.compilelock): To manually release the lock, delete C:\\Users\\AdminUser\\AppData\\Local\\Theano\\compiledir_Windows-7-6.1.7601-SP1-Intel64_Family_6_Model_58_Stepping_9_GenuineIntel-2.7.13-64\\lock_dir\n",
      "INFO (theano.gof.compilelock): Waiting for existing lock by process '9852' (I am process '4188')\n",
      "INFO (theano.gof.compilelock): To manually release the lock, delete C:\\Users\\AdminUser\\AppData\\Local\\Theano\\compiledir_Windows-7-6.1.7601-SP1-Intel64_Family_6_Model_58_Stepping_9_GenuineIntel-2.7.13-64\\lock_dir\n",
      "INFO (theano.gof.compilelock): Waiting for existing lock by process '9852' (I am process '4188')\n",
      "INFO (theano.gof.compilelock): To manually release the lock, delete C:\\Users\\AdminUser\\AppData\\Local\\Theano\\compiledir_Windows-7-6.1.7601-SP1-Intel64_Family_6_Model_58_Stepping_9_GenuineIntel-2.7.13-64\\lock_dir\n",
      "INFO (theano.gof.compilelock): Waiting for existing lock by process '4644' (I am process '4188')\n",
      "INFO (theano.gof.compilelock): To manually release the lock, delete C:\\Users\\AdminUser\\AppData\\Local\\Theano\\compiledir_Windows-7-6.1.7601-SP1-Intel64_Family_6_Model_58_Stepping_9_GenuineIntel-2.7.13-64\\lock_dir\n",
      "INFO (theano.gof.compilelock): Waiting for existing lock by process '11220' (I am process '4188')\n",
      "INFO (theano.gof.compilelock): To manually release the lock, delete C:\\Users\\AdminUser\\AppData\\Local\\Theano\\compiledir_Windows-7-6.1.7601-SP1-Intel64_Family_6_Model_58_Stepping_9_GenuineIntel-2.7.13-64\\lock_dir\n",
      "INFO (theano.gof.compilelock): Waiting for existing lock by process '2892' (I am process '4188')\n",
      "INFO (theano.gof.compilelock): To manually release the lock, delete C:\\Users\\AdminUser\\AppData\\Local\\Theano\\compiledir_Windows-7-6.1.7601-SP1-Intel64_Family_6_Model_58_Stepping_9_GenuineIntel-2.7.13-64\\lock_dir\n",
      "INFO (theano.gof.compilelock): Waiting for existing lock by process '2892' (I am process '4188')\n",
      "INFO (theano.gof.compilelock): To manually release the lock, delete C:\\Users\\AdminUser\\AppData\\Local\\Theano\\compiledir_Windows-7-6.1.7601-SP1-Intel64_Family_6_Model_58_Stepping_9_GenuineIntel-2.7.13-64\\lock_dir\n",
      "C:\\Users\\AdminUser\\Anaconda2\\lib\\site-packages\\theano\\scan_module\\scan_perform_ext.py:76: UserWarning: The file scan_perform.c is not available. This donot happen normally. You are probably in a strangesetup. This mean Theano can not use the cython code for scan. If youwant to remove this warning, use the Theano flag'cxx=' (set to an empty string) to disable all ccode generation.\n",
      "  \"The file scan_perform.c is not available. This do\"\n",
      "C:\\Users\\AdminUser\\Anaconda2\\lib\\site-packages\\theano\\scan_module\\scan_perform_ext.py:76: UserWarning: The file scan_perform.c is not available. This donot happen normally. You are probably in a strangesetup. This mean Theano can not use the cython code for scan. If youwant to remove this warning, use the Theano flag'cxx=' (set to an empty string) to disable all ccode generation.\n",
      "  \"The file scan_perform.c is not available. This do\"\n",
      "C:\\Users\\AdminUser\\Anaconda2\\lib\\site-packages\\theano\\scan_module\\scan_perform_ext.py:76: UserWarning: The file scan_perform.c is not available. This donot happen normally. You are probably in a strangesetup. This mean Theano can not use the cython code for scan. If youwant to remove this warning, use the Theano flag'cxx=' (set to an empty string) to disable all ccode generation.\n",
      "  \"The file scan_perform.c is not available. This do\"\n"
     ]
    },
    {
     "name": "stdout",
     "output_type": "stream",
     "text": [
      "Train on 315 samples, validate on 35 samples\n",
      "Epoch 1/100\n",
      "315/315 [==============================] - 10s 32ms/step - loss: 6.7873e-06 - val_loss: 0.0057\n",
      "Epoch 2/100\n",
      "315/315 [==============================] - 6s 19ms/step - loss: 0.0155 - val_loss: 0.3312\n",
      "Epoch 3/100\n",
      "315/315 [==============================] - 5s 17ms/step - loss: 0.3175 - val_loss: 0.0035\n",
      "Epoch 4/100\n",
      "315/315 [==============================] - 11s 35ms/step - loss: 0.0104 - val_loss: 0.1816\n",
      "Epoch 5/100\n",
      "315/315 [==============================] - 2s 7ms/step - loss: 0.1796 - val_loss: 9.6595e-04\n",
      "Epoch 6/100\n",
      "315/315 [==============================] - 3s 9ms/step - loss: 0.0042 - val_loss: 0.1343\n",
      "Epoch 7/100\n",
      "315/315 [==============================] - 3s 11ms/step - loss: 0.1304 - val_loss: 0.0057\n",
      "Epoch 8/100\n",
      "315/315 [==============================] - 6s 18ms/step - loss: 0.0061 - val_loss: 0.0702\n",
      "Epoch 9/100\n",
      "315/315 [==============================] - 5s 17ms/step - loss: 0.0710 - val_loss: 0.0230\n",
      "Epoch 10/100\n",
      "315/315 [==============================] - 5s 17ms/step - loss: 0.0224 - val_loss: 0.0193\n",
      "Epoch 11/100\n",
      "315/315 [==============================] - 9s 27ms/step - loss: 0.0200 - val_loss: 0.0399\n",
      "Epoch 12/100\n",
      "315/315 [==============================] - 12s 38ms/step - loss: 0.0380 - val_loss: 2.1170e-04\n",
      "Epoch 13/100\n",
      "315/315 [==============================] - 5s 17ms/step - loss: 5.4177e-04 - val_loss: 0.0221\n",
      "Epoch 14/100\n",
      "315/315 [==============================] - 5s 17ms/step - loss: 0.0227 - val_loss: 0.0109\n",
      "Epoch 15/100\n",
      "315/315 [==============================] - 5s 17ms/step - loss: 0.0108 - val_loss: 0.0026\n",
      "Epoch 16/100\n",
      "315/315 [==============================] - 9s 27ms/step - loss: 0.0028 - val_loss: 0.0146\n",
      "Epoch 17/100\n",
      "315/315 [==============================] - 12s 38ms/step - loss: 0.0139 - val_loss: 0.0023\n",
      "Epoch 18/100\n",
      "315/315 [==============================] - 4s 13ms/step - loss: 0.0020 - val_loss: 0.0038\n",
      "Epoch 19/100\n",
      "315/315 [==============================] - 4s 14ms/step - loss: 0.0042 - val_loss: 0.0064\n",
      "Epoch 20/100\n",
      "315/315 [==============================] - 3s 10ms/step - loss: 0.0065 - val_loss: 2.0491e-05\n",
      "Epoch 21/100\n",
      "315/315 [==============================] - 4s 12ms/step - loss: 9.8323e-05 - val_loss: 0.0041\n",
      "Epoch 22/100\n",
      "315/315 [==============================] - 4s 14ms/step - loss: 0.0039 - val_loss: 0.0026\n",
      "Epoch 23/100\n",
      "315/315 [==============================] - 4s 13ms/step - loss: 0.0024 - val_loss: 1.9417e-04\n",
      "Epoch 24/100\n",
      "315/315 [==============================] - 5s 16ms/step - loss: 3.1789e-04 - val_loss: 0.0025\n",
      "Epoch 25/100\n",
      "315/315 [==============================] - 4s 13ms/step - loss: 0.0026 - val_loss: 4.1084e-04\n",
      "Epoch 26/100\n",
      "315/315 [==============================] - 4s 12ms/step - loss: 4.6385e-04 - val_loss: 8.2698e-04\n",
      "Epoch 27/100\n",
      "315/315 [==============================] - 4s 13ms/step - loss: 7.6725e-04 - val_loss: 0.0014\n",
      "Epoch 28/100\n",
      "315/315 [==============================] - 3s 10ms/step - loss: 0.0012 - val_loss: 9.7543e-06\n",
      "Epoch 29/100\n",
      "315/315 [==============================] - 3s 10ms/step - loss: 1.7928e-05 - val_loss: 7.0915e-04\n",
      "Epoch 30/100\n",
      "315/315 [==============================] - 3s 10ms/step - loss: 8.0616e-04 - val_loss: 2.8897e-04\n",
      "Epoch 31/100\n",
      "315/315 [==============================] - 7s 21ms/step - loss: 3.3604e-04 - val_loss: 1.8212e-04\n",
      "Epoch 32/100\n",
      "315/315 [==============================] - 3s 11ms/step - loss: 1.5489e-04 - val_loss: 5.8177e-04\n",
      "Epoch 33/100\n",
      "315/315 [==============================] - 3s 9ms/step - loss: 4.9021e-04 - val_loss: 2.8553e-05\n",
      "Epoch 34/100\n",
      "315/315 [==============================] - 2s 8ms/step - loss: 1.8052e-05 - val_loss: 2.0609e-04\n",
      "Epoch 35/100\n",
      "315/315 [==============================] - 3s 10ms/step - loss: 2.6183e-04 - val_loss: 9.9364e-05\n",
      "Epoch 36/100\n",
      "315/315 [==============================] - 3s 10ms/step - loss: 1.3162e-04 - val_loss: 7.6129e-05\n",
      "Epoch 37/100\n",
      "315/315 [==============================] - 3s 10ms/step - loss: 5.6328e-05 - val_loss: 2.2675e-04\n",
      "Epoch 38/100\n",
      "315/315 [==============================] - 3s 10ms/step - loss: 1.7415e-04 - val_loss: 7.7426e-06\n",
      "Epoch 39/100\n",
      "315/315 [==============================] - 3s 9ms/step - loss: 4.6407e-06 - val_loss: 7.5739e-05\n",
      "Epoch 40/100\n",
      "315/315 [==============================] - 3s 9ms/step - loss: 1.0997e-04 - val_loss: 1.8490e-05\n",
      "Epoch 41/100\n",
      "315/315 [==============================] - 3s 8ms/step - loss: 3.5858e-05 - val_loss: 5.4629e-05\n",
      "Epoch 42/100\n",
      "315/315 [==============================] - 4s 13ms/step - loss: 3.5650e-05 - val_loss: 8.4193e-05\n",
      "Epoch 43/100\n",
      "315/315 [==============================] - 4s 11ms/step - loss: 5.4959e-05 - val_loss: 2.6920e-07\n",
      "Epoch 44/100\n",
      "315/315 [==============================] - 3s 8ms/step - loss: 5.1211e-06 - val_loss: 2.3541e-05\n",
      "Epoch 45/100\n",
      "315/315 [==============================] - 2s 7ms/step - loss: 4.3830e-05 - val_loss: 2.5239e-07\n",
      "Epoch 46/100\n",
      "315/315 [==============================] - 3s 9ms/step - loss: 3.9522e-06 - val_loss: 4.2578e-05\n",
      "Epoch 47/100\n",
      "315/315 [==============================] - 10s 31ms/step - loss: 2.4670e-05 - val_loss: 2.2850e-05\n",
      "Epoch 48/100\n",
      "315/315 [==============================] - 2s 5ms/step - loss: 1.0540e-05 - val_loss: 1.1054e-06\n",
      "Epoch 49/100\n",
      "315/315 [==============================] - 1s 4ms/step - loss: 9.2109e-06 - val_loss: 3.3805e-06\n",
      "Epoch 50/100\n",
      "315/315 [==============================] - 2s 6ms/step - loss: 1.3669e-05 - val_loss: 5.2044e-06\n",
      "Epoch 51/100\n",
      "315/315 [==============================] - 2s 5ms/step - loss: 2.2195e-06 - val_loss: 1.9306e-05\n",
      "Epoch 52/100\n",
      "315/315 [==============================] - 1s 5ms/step - loss: 8.4882e-06 - val_loss: 4.0560e-06\n",
      "Epoch 53/100\n",
      "315/315 [==============================] - 2s 8ms/step - loss: 1.8105e-06 - val_loss: 3.5064e-07\n",
      "Epoch 54/100\n",
      "315/315 [==============================] - 2s 5ms/step - loss: 6.1674e-06 - val_loss: 1.3127e-06\n",
      "Epoch 55/100\n",
      "315/315 [==============================] - 1s 5ms/step - loss: 2.1286e-06 - val_loss: 1.1715e-05\n",
      "Epoch 56/100\n",
      "315/315 [==============================] - 2s 6ms/step - loss: 4.4630e-06 - val_loss: 7.1977e-06\n",
      "Epoch 57/100\n",
      "315/315 [==============================] - 2s 6ms/step - loss: 2.4883e-06 - val_loss: 5.4724e-07\n",
      "Epoch 58/100\n",
      "315/315 [==============================] - 2s 6ms/step - loss: 2.9673e-06 - val_loss: 7.9815e-07\n",
      "Epoch 59/100\n",
      "315/315 [==============================] - 2s 5ms/step - loss: 2.4836e-06 - val_loss: 7.0789e-06\n",
      "Epoch 60/100\n",
      "315/315 [==============================] - 2s 5ms/step - loss: 2.5480e-06 - val_loss: 7.1550e-06\n",
      "Epoch 61/100\n",
      "315/315 [==============================] - 2s 5ms/step - loss: 2.4232e-06 - val_loss: 7.6924e-07\n",
      "Epoch 62/100\n",
      "315/315 [==============================] - 2s 6ms/step - loss: 2.6226e-06 - val_loss: 3.3205e-07\n",
      "Epoch 63/100\n",
      "315/315 [==============================] - 2s 6ms/step - loss: 3.3751e-06 - val_loss: 5.0799e-06\n",
      "Epoch 64/100\n",
      "315/315 [==============================] - 2s 7ms/step - loss: 2.0079e-06 - val_loss: 7.9470e-06\n",
      "Epoch 65/100\n",
      "315/315 [==============================] - 2s 5ms/step - loss: 2.7136e-06 - val_loss: 1.2867e-06\n"
     ]
    },
    {
     "data": {
      "text/plain": [
       "<keras.callbacks.callbacks.History at 0x2b2cbb00>"
      ]
     },
     "execution_count": 10,
     "metadata": {},
     "output_type": "execute_result"
    }
   ],
   "source": [
    "#model.fit(data, target, batch_size=300, epochs=100, validation_split=0.1, callbacks=[early_stopping])\n",
    "model.fit(data, target, batch_size=300, epochs=100, validation_split=0.1, callbacks=[early_stopping])"
   ]
  },
  {
   "cell_type": "code",
   "execution_count": null,
   "metadata": {
    "collapsed": true
   },
   "outputs": [],
   "source": []
  },
  {
   "cell_type": "code",
   "execution_count": null,
   "metadata": {},
   "outputs": [
    {
     "name": "stderr",
     "output_type": "stream",
     "text": [
      "C:\\Users\\AdminUser\\Anaconda2\\lib\\site-packages\\theano\\scan_module\\scan_perform_ext.py:76: UserWarning: The file scan_perform.c is not available. This donot happen normally. You are probably in a strangesetup. This mean Theano can not use the cython code for scan. If youwant to remove this warning, use the Theano flag'cxx=' (set to an empty string) to disable all ccode generation.\n",
      "  \"The file scan_perform.c is not available. This do\"\n",
      "C:\\Users\\AdminUser\\Anaconda2\\lib\\site-packages\\matplotlib\\font_manager.py:1333: UserWarning: findfont: Font family [u'IPAexGothic'] not found. Falling back to DejaVu Sans\n",
      "  (prop.get_family(), self.defaultFamily[fontext]))\n"
     ]
    },
    {
     "data": {
      "text/plain": [
       "<Figure size 432x288 with 0 Axes>"
      ]
     },
     "metadata": {},
     "output_type": "display_data"
    }
   ],
   "source": [
    "fig = plt.figure(1)\n",
    "\n",
    "#検証ではノイズがないデータを使用すること\n",
    "pred = model.predict(data)\n",
    "\n",
    "#Y軸のラベル\n",
    "Signal_Ylabel_str = MusicType + 'Signal' + NoiseType\n",
    "RNN_Ylabel_str = 'RNN Pred' + 'Signal'\n",
    "\n",
    "plt.figure(figsize=(15, 4))\n",
    "plt.subplot(1, 2, 1)\n",
    "plt.xlim(0, 500)\n",
    "plt.plot(x, y, color='blue')\n",
    "plt.xlabel('Original Signal ' + MusicType)\n",
    "plt.ylabel(RNN_Ylabel_str)\n",
    " \n",
    "plt.subplot(1, 2, 2)\n",
    "plt.xlim(0, 500)\n",
    "plt.plot(x[:l], y[:l], color='blue', label=Signal_Ylabel_str)\n",
    "plt.plot(x[l:], pred, color='red', label=RNN_Ylabel_str, linestyle=\"dotted\")\n",
    "plt.xlabel('RNN Prediction of Acoustic Signal(' + MusicType + ')')\n",
    "plt.legend(loc='lower left')\n",
    "\n",
    "#plt.savefig\n",
    "fig.set_tight_layout(True)\n",
    "plt.savefig('./Output/RNN_Pred_Signal_Reconstruction/RNN_' + NoiseType + '_' + MusicFileName + '.png')\n",
    "plt.show()"
   ]
  },
  {
   "cell_type": "code",
   "execution_count": null,
   "metadata": {
    "collapsed": true
   },
   "outputs": [],
   "source": []
  },
  {
   "cell_type": "code",
   "execution_count": null,
   "metadata": {},
   "outputs": [],
   "source": [
    "#シグナル値\n",
    "pd_y = pd.DataFrame(y[:l],columns=[\"Signal\"])\n",
    "pd_pred = pd.DataFrame(pred,columns=[\"Signal\"])\n",
    "pd_concat_y = pd.concat([pd_y,pd_pred], axis=0)\n",
    "pd_concat_y = pd_concat_y.reset_index(drop=True)\n",
    "\n",
    "#時間軸\n",
    "pd_pandas_x = pd.DataFrame(range(500),columns=[\"Time\"])\n",
    "\n",
    "#信号配列\n",
    "pd_concat_Signal = pd.concat([pd_pandas_x,pd_concat_y], axis=1)\n",
    "\n",
    "#保存\n",
    "pd_concat_Signal.to_csv('./Output/RNN_Pred_Signal_Reconstruction/RNN_' + NoiseType + '_' + MusicFileName + '.csv')\n",
    "pd_concat_Signal"
   ]
  },
  {
   "cell_type": "code",
   "execution_count": null,
   "metadata": {
    "collapsed": true
   },
   "outputs": [],
   "source": []
  },
  {
   "cell_type": "code",
   "execution_count": null,
   "metadata": {
    "collapsed": true
   },
   "outputs": [],
   "source": []
  },
  {
   "cell_type": "code",
   "execution_count": null,
   "metadata": {
    "collapsed": true
   },
   "outputs": [],
   "source": []
  }
 ],
 "metadata": {
  "kernelspec": {
   "display_name": "Python 2",
   "language": "python",
   "name": "python2"
  },
  "language_info": {
   "codemirror_mode": {
    "name": "ipython",
    "version": 2
   },
   "file_extension": ".py",
   "mimetype": "text/x-python",
   "name": "python",
   "nbconvert_exporter": "python",
   "pygments_lexer": "ipython2",
   "version": "2.7.13"
  }
 },
 "nbformat": 4,
 "nbformat_minor": 2
}
