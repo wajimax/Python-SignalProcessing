{
 "cells": [
  {
   "cell_type": "code",
   "execution_count": 1,
   "metadata": {
    "collapsed": true
   },
   "outputs": [],
   "source": [
    "#!/usr/bin/env python\n",
    "# vim:fileencoding=utf-8\n",
    "import sys\n",
    "import numpy as np\n",
    "\n",
    "#音声信号処理\n",
    "import scipy.signal as sg\n",
    "import soundfile as sf\n",
    "\n",
    "#スケール変換\n",
    "from sklearn.preprocessing import MinMaxScaler\n",
    "\n",
    "#NMF\n",
    "from sklearn.decomposition import NMF\n",
    "\n",
    "#可視化ライブラリ\n",
    "import matplotlib.pyplot as plt\n",
    "import seaborn as sns"
   ]
  },
  {
   "cell_type": "code",
   "execution_count": 2,
   "metadata": {
    "collapsed": true
   },
   "outputs": [],
   "source": [
    "#音楽ファイル\n",
    "NHKBusiness_file = './Input/02_Business/NHKBusiness_whitenoise.wav'\n",
    "FileName = 'NHKBusiness_whitenoise'"
   ]
  },
  {
   "cell_type": "code",
   "execution_count": 3,
   "metadata": {
    "collapsed": true
   },
   "outputs": [],
   "source": [
    "plt.close(\"all\")\n",
    "\n",
    "# wavファイル読み込み\n",
    "NHKBusiness_wav, NHKBusiness_fs = sf.read(NHKBusiness_file)"
   ]
  },
  {
   "cell_type": "code",
   "execution_count": null,
   "metadata": {
    "collapsed": true
   },
   "outputs": [],
   "source": []
  },
  {
   "cell_type": "code",
   "execution_count": 4,
   "metadata": {
    "collapsed": true
   },
   "outputs": [],
   "source": [
    "#X = NHKRadio_wav[:int(NHKRadio_fs * 30)]\n",
    "X = NHKBusiness_wav[:NHKBusiness_fs * 10]\n",
    "\n",
    "#1.MinMaxScaler（広がりを補正、非負値化）\n",
    "scaler = MinMaxScaler()\n",
    "scaler.fit(X)\n",
    "X_scaled = scaler.transform(X)"
   ]
  },
  {
   "cell_type": "code",
   "execution_count": 5,
   "metadata": {},
   "outputs": [
    {
     "data": {
      "text/plain": [
       "441000"
      ]
     },
     "execution_count": 5,
     "metadata": {},
     "output_type": "execute_result"
    }
   ],
   "source": [
    "len(X)"
   ]
  },
  {
   "cell_type": "code",
   "execution_count": 6,
   "metadata": {
    "collapsed": true
   },
   "outputs": [],
   "source": [
    "#model = NMF(n_components=100, random_state=10, beta_loss='kullback-leibler',solver='mu')\n",
    "model = NMF(n_components=50, random_state=10, beta_loss='kullback-leibler',solver='mu')\n",
    "W = model.fit_transform(X_scaled)\n",
    "H = model.components_"
   ]
  },
  {
   "cell_type": "code",
   "execution_count": 7,
   "metadata": {},
   "outputs": [
    {
     "data": {
      "text/plain": [
       "441000"
      ]
     },
     "execution_count": 7,
     "metadata": {},
     "output_type": "execute_result"
    }
   ],
   "source": [
    "len(W)"
   ]
  },
  {
   "cell_type": "code",
   "execution_count": null,
   "metadata": {
    "collapsed": true
   },
   "outputs": [],
   "source": []
  },
  {
   "cell_type": "code",
   "execution_count": 8,
   "metadata": {
    "collapsed": true
   },
   "outputs": [],
   "source": [
    "sns.set()\n",
    "f, ax = plt.subplots(figsize=(36, 12))\n",
    "f.set_tight_layout(True)\n",
    "sns.heatmap(W.T, ax=ax, xticklabels=100000, yticklabels=5,cmap='inferno', linewidths=.00001, vmin=0.01, vmax=0.5)\n",
    "plt.savefig('./Output/NMF_HeatMap/HeatMap_' + FileName + '_longtime_kullbackleibler.png')"
   ]
  },
  {
   "cell_type": "code",
   "execution_count": null,
   "metadata": {
    "collapsed": true
   },
   "outputs": [],
   "source": []
  },
  {
   "cell_type": "code",
   "execution_count": null,
   "metadata": {
    "collapsed": true
   },
   "outputs": [],
   "source": []
  },
  {
   "cell_type": "code",
   "execution_count": null,
   "metadata": {
    "collapsed": true
   },
   "outputs": [],
   "source": []
  },
  {
   "cell_type": "code",
   "execution_count": null,
   "metadata": {
    "collapsed": true
   },
   "outputs": [],
   "source": []
  }
 ],
 "metadata": {
  "kernelspec": {
   "display_name": "Python 2",
   "language": "python",
   "name": "python2"
  },
  "language_info": {
   "codemirror_mode": {
    "name": "ipython",
    "version": 2
   },
   "file_extension": ".py",
   "mimetype": "text/x-python",
   "name": "python",
   "nbconvert_exporter": "python",
   "pygments_lexer": "ipython2",
   "version": "2.7.13"
  }
 },
 "nbformat": 4,
 "nbformat_minor": 2
}
