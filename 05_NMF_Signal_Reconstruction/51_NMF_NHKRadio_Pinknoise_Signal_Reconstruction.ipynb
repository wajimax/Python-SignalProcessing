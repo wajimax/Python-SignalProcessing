{
 "cells": [
  {
   "cell_type": "code",
   "execution_count": 1,
   "metadata": {},
   "outputs": [
    {
     "name": "stdout",
     "output_type": "stream",
     "text": [
      "0.18.1\n"
     ]
    }
   ],
   "source": [
    "#!/usr/bin/env python\n",
    "# vim:fileencoding=utf-8\n",
    "import sklearn\n",
    "print(sklearn.__version__)\n",
    "\n",
    "import sys\n",
    "import numpy as np\n",
    "import pandas as pd\n",
    "\n",
    "#音声信号処理\n",
    "import scipy.signal as sg\n",
    "import soundfile as sf\n",
    "\n",
    "#スケール変換\n",
    "from sklearn.preprocessing import MinMaxScaler\n",
    "\n",
    "#NMF\n",
    "from sklearn.decomposition import NMF\n",
    "\n",
    "#可視化ライブラリ\n",
    "import matplotlib.pyplot as plt\n",
    "import seaborn as sns"
   ]
  },
  {
   "cell_type": "code",
   "execution_count": 2,
   "metadata": {
    "collapsed": true
   },
   "outputs": [],
   "source": [
    "#音楽ファイル\n",
    "Wav_file = './Input/01_Radio/NHKRadio_pinknoise.wav'\n",
    "FileName = 'NHKRadio_pinknoise'\n",
    "\n",
    "#パラメータ\n",
    "n_components_num = 50"
   ]
  },
  {
   "cell_type": "code",
   "execution_count": 3,
   "metadata": {
    "collapsed": true
   },
   "outputs": [],
   "source": [
    "plt.close(\"all\")\n",
    "\n",
    "# wavファイル読み込み\n",
    "Wav_wav, Wav_fs = sf.read(Wav_file)"
   ]
  },
  {
   "cell_type": "code",
   "execution_count": null,
   "metadata": {
    "collapsed": true
   },
   "outputs": [],
   "source": []
  },
  {
   "cell_type": "code",
   "execution_count": null,
   "metadata": {
    "collapsed": true
   },
   "outputs": [],
   "source": [
    "#取得した音声ファイル\n",
    "X = Wav_wav[:int(Wav_fs * 10)]\n",
    "\n",
    "#1.MinMaxScaler（広がりを補正、非負値化）\n",
    "scaler = MinMaxScaler()\n",
    "scaler.fit(X)\n",
    "X_scaled = scaler.transform(X)"
   ]
  },
  {
   "cell_type": "code",
   "execution_count": null,
   "metadata": {
    "collapsed": true
   },
   "outputs": [],
   "source": []
  },
  {
   "cell_type": "code",
   "execution_count": null,
   "metadata": {
    "collapsed": true
   },
   "outputs": [],
   "source": [
    "#NMFの行列分解\n",
    "#model = NMF(n_components=n_components_num, random_state=10, beta_loss='kullback-leibler', solver='mu')\n",
    "\n",
    "#2020年6月3日にデグレーションが発生して、\n",
    "#Version[0.18.1]のメソッドに変更\n",
    "#https://scikit-learn.org/0.18/modules/generated/sklearn.decomposition.NMF.html\n",
    "model = NMF(n_components=n_components_num, random_state=10, beta=2)\n",
    "W = model.fit_transform(X_scaled)\n",
    "H = model.components_"
   ]
  },
  {
   "cell_type": "code",
   "execution_count": null,
   "metadata": {
    "collapsed": true
   },
   "outputs": [],
   "source": []
  },
  {
   "cell_type": "code",
   "execution_count": null,
   "metadata": {
    "collapsed": true
   },
   "outputs": [],
   "source": [
    "print(H.shape)\n",
    "print(W.shape)"
   ]
  },
  {
   "cell_type": "code",
   "execution_count": null,
   "metadata": {
    "collapsed": true
   },
   "outputs": [],
   "source": []
  },
  {
   "cell_type": "code",
   "execution_count": null,
   "metadata": {
    "collapsed": true
   },
   "outputs": [],
   "source": [
    "dataframe_W = pd.DataFrame(W)\n",
    "dataframe_W"
   ]
  },
  {
   "cell_type": "code",
   "execution_count": null,
   "metadata": {
    "collapsed": true
   },
   "outputs": [],
   "source": []
  },
  {
   "cell_type": "code",
   "execution_count": null,
   "metadata": {
    "collapsed": true
   },
   "outputs": [],
   "source": [
    "#係数行列の合計値の係数値でソートして、\n",
    "#係数値上位10個の列番号を取得\n",
    "W_Top10_index = dataframe_W.mean().sort_values(0, ascending=False).head(10).index\n",
    "W_Top10_index"
   ]
  },
  {
   "cell_type": "code",
   "execution_count": null,
   "metadata": {
    "collapsed": true
   },
   "outputs": [],
   "source": []
  },
  {
   "cell_type": "code",
   "execution_count": null,
   "metadata": {
    "collapsed": true
   },
   "outputs": [],
   "source": [
    "#重要な基底の列番号のみ係数行列を抽出\n",
    "dataframe_W_index_matrix = dataframe_W[W_Top10_index]\n",
    "dataframe_W_index_matrix"
   ]
  },
  {
   "cell_type": "code",
   "execution_count": null,
   "metadata": {
    "collapsed": true
   },
   "outputs": [],
   "source": []
  },
  {
   "cell_type": "code",
   "execution_count": null,
   "metadata": {
    "collapsed": true
   },
   "outputs": [],
   "source": [
    "#変換特徴量の基底数を指定\n",
    "dataframe_write_list = list(range(n_components_num))\n",
    "\n",
    "#重要な基底の列番号だけ繰り返す\n",
    "for index_value in W_Top10_index:\n",
    "    \n",
    "    #指定したindexを除去\n",
    "    #重要度が高い基底の列番号を除去\n",
    "    dataframe_write_list.remove(index_value)"
   ]
  },
  {
   "cell_type": "code",
   "execution_count": null,
   "metadata": {
    "collapsed": true
   },
   "outputs": [],
   "source": []
  },
  {
   "cell_type": "code",
   "execution_count": null,
   "metadata": {
    "collapsed": true
   },
   "outputs": [],
   "source": [
    "#(信号再構成処理用の行列作成)\n",
    "#値が設定されている列でない列を指定して、\n",
    "#行列の値に0を設定\n",
    "for dataframe_write_index in dataframe_write_list:\n",
    "    dataframe_W_index_matrix[dataframe_write_index] = 0\n",
    "    dataframe_W_index_matrix"
   ]
  },
  {
   "cell_type": "code",
   "execution_count": null,
   "metadata": {
    "collapsed": true
   },
   "outputs": [],
   "source": []
  },
  {
   "cell_type": "code",
   "execution_count": null,
   "metadata": {
    "collapsed": true
   },
   "outputs": [],
   "source": [
    "#列番号でソート\n",
    "dataframe_W_index_matrix = dataframe_W_index_matrix.sort_index(axis='columns')\n",
    "dataframe_W_index_matrix"
   ]
  },
  {
   "cell_type": "code",
   "execution_count": null,
   "metadata": {
    "collapsed": true
   },
   "outputs": [],
   "source": []
  },
  {
   "cell_type": "code",
   "execution_count": null,
   "metadata": {
    "collapsed": true
   },
   "outputs": [],
   "source": [
    "#print(W.shape)\n",
    "print(dataframe_W_index_matrix.shape)\n",
    "print(H.shape)"
   ]
  },
  {
   "cell_type": "code",
   "execution_count": null,
   "metadata": {
    "collapsed": true
   },
   "outputs": [],
   "source": []
  },
  {
   "cell_type": "code",
   "execution_count": null,
   "metadata": {},
   "outputs": [],
   "source": [
    "#WH\n",
    "#https://numpy.org/doc/stable/reference/generated/numpy.dot.html\n",
    "WH_write = np.dot(dataframe_W_index_matrix, H)\n",
    "WH_write"
   ]
  },
  {
   "cell_type": "code",
   "execution_count": null,
   "metadata": {
    "collapsed": true
   },
   "outputs": [],
   "source": [
    "#信号再構成処理したファイルを出力\n",
    "sf.write('./Output/Signal_Reconstruction_0.18.1/' + FileName + 'WH_write_Matrix_' + str(n_components_num) + '.wav', Wav_wav, Wav_fs)"
   ]
  },
  {
   "cell_type": "code",
   "execution_count": null,
   "metadata": {
    "collapsed": true
   },
   "outputs": [],
   "source": []
  },
  {
   "cell_type": "code",
   "execution_count": null,
   "metadata": {
    "collapsed": true
   },
   "outputs": [],
   "source": []
  }
 ],
 "metadata": {
  "kernelspec": {
   "display_name": "Python 2",
   "language": "python",
   "name": "python2"
  },
  "language_info": {
   "codemirror_mode": {
    "name": "ipython",
    "version": 2
   },
   "file_extension": ".py",
   "mimetype": "text/x-python",
   "name": "python",
   "nbconvert_exporter": "python",
   "pygments_lexer": "ipython2",
   "version": "2.7.13"
  }
 },
 "nbformat": 4,
 "nbformat_minor": 2
}
