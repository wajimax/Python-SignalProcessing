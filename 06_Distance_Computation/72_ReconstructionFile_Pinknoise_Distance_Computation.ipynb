{
 "cells": [
  {
   "cell_type": "code",
   "execution_count": 1,
   "metadata": {
    "collapsed": true
   },
   "outputs": [],
   "source": [
    "#!/usr/bin/env python\n",
    "# vim:fileencoding=utf-8\n",
    "import sys\n",
    "import scipy.signal as sg\n",
    "import matplotlib.pyplot as plt\n",
    "import soundfile as sf\n",
    "import matplotlib\n",
    "import pandas as pd\n",
    "\n",
    "#可視化ライブラリ\n",
    "import seaborn as sns\n",
    "\n",
    "#距離計算\n",
    "from scipy.spatial import distance"
   ]
  },
  {
   "cell_type": "code",
   "execution_count": 2,
   "metadata": {
    "collapsed": true
   },
   "outputs": [],
   "source": [
    "#音楽ファイル\n",
    "NHKRadio_file = './Input/01_Radio/NHKRadio.wav'\n",
    "NHKBusiness_file = './Input/02_Business/NHKBusiness.wav'\n",
    "Classic_file = './Input/03_Classic/Classic.wav'\n",
    "\n",
    "#このノイズファイルは、ノイズが追加された信号ではなく、\n",
    "#音楽ファイルと長さが同じノイズファイル\n",
    "NHKRadio_noise_file = './Output/Signal_Reconstruction_0.18.1/NHKRadio_pinknoiseWH_write_Matrix_50.wav'\n",
    "NHKBusiness_noise_file = './Output/Signal_Reconstruction_0.18.1/NHKBusiness_pinknoiseWH_write_Matrix_50.wav'\n",
    "Classic_noise_file = './Output/Signal_Reconstruction_0.18.1/Classic_pinknoiseWH_write_Matrix_50.wav'"
   ]
  },
  {
   "cell_type": "code",
   "execution_count": null,
   "metadata": {
    "collapsed": true
   },
   "outputs": [],
   "source": []
  },
  {
   "cell_type": "code",
   "execution_count": 3,
   "metadata": {
    "collapsed": true
   },
   "outputs": [],
   "source": [
    "NoiseType = \"Pinknoise\""
   ]
  },
  {
   "cell_type": "code",
   "execution_count": null,
   "metadata": {
    "collapsed": true
   },
   "outputs": [],
   "source": []
  },
  {
   "cell_type": "code",
   "execution_count": 4,
   "metadata": {
    "collapsed": true
   },
   "outputs": [],
   "source": [
    "plt.close(\"all\")\n",
    "\n",
    "# wavファイル読み込み\n",
    "NHKRadio_wav, NHKRadio_fs = sf.read(NHKRadio_file)\n",
    "\n",
    "# ステレオ2chの場合、モノラル音源に変換(左右の各音を2で割った音を足して作成．)\n",
    "if(NHKRadio_wav.shape[1] == 1):\n",
    "    NHKRadio_wavdata = NHKRadio_wav\n",
    "    print(NHKRadio_wav.shape[1])\n",
    "else:\n",
    "    NHKRadio_wavdata = (0.5 * NHKRadio_wav[:, 1]) + (0.5 * NHKRadio_wav[:, 0])"
   ]
  },
  {
   "cell_type": "code",
   "execution_count": 5,
   "metadata": {
    "collapsed": true
   },
   "outputs": [],
   "source": [
    "# wavファイル読み込み\n",
    "NHKRadio_noise_wav, NHKRadio_noise_fs = sf.read(NHKRadio_noise_file)\n",
    "\n",
    "# ステレオ2chの場合、モノラル音源に変換(左右の各音を2で割った音を足して作成．)\n",
    "if(NHKRadio_noise_wav.shape[1] == 1):\n",
    "    NHKRadio_noise_wavdata = NHKRadio_noise_wav\n",
    "    print(NHKRadio_noise_wav.shape[1])\n",
    "else:\n",
    "    NHKRadio_noise_wavdata = (0.5 * NHKRadio_noise_wav[:, 1]) + (0.5 * NHKRadio_noise_wav[:, 0])"
   ]
  },
  {
   "cell_type": "code",
   "execution_count": 6,
   "metadata": {
    "collapsed": true
   },
   "outputs": [],
   "source": [
    "# wavファイル読み込み\n",
    "NHKBusiness_wav, NHKBusiness_fs = sf.read(NHKBusiness_file)\n",
    "\n",
    "# ステレオ2chの場合、モノラル音源に変換(左右の各音を2で割った音を足して作成．)\n",
    "if(NHKBusiness_wav.shape[1] == 1):\n",
    "    NHKBusiness_wavdata = NHKBusiness_wav\n",
    "    print(NHKBusiness_wav.shape[1])\n",
    "else:\n",
    "    NHKBusiness_wavdata = (0.5 * NHKBusiness_wav[:, 1]) + (0.5 * NHKBusiness_wav[:, 0])"
   ]
  },
  {
   "cell_type": "code",
   "execution_count": 7,
   "metadata": {
    "collapsed": true
   },
   "outputs": [],
   "source": [
    "# wavファイル読み込み\n",
    "NHKBusiness_noise_wav, NHKBusiness_noise_fs = sf.read(NHKBusiness_noise_file)\n",
    "\n",
    "# ステレオ2chの場合、モノラル音源に変換(左右の各音を2で割った音を足して作成．)\n",
    "if(NHKBusiness_noise_wav.shape[1] == 1):\n",
    "    NHKBusiness_noise_wavdata = NHKBusiness_noise_wav\n",
    "    print(NHKBusiness_noise_wav.shape[1])\n",
    "else:\n",
    "    NHKBusiness_noise_wavdata = (0.5 * NHKBusiness_noise_wav[:, 1]) + (0.5 * NHKBusiness_noise_wav[:, 0])"
   ]
  },
  {
   "cell_type": "code",
   "execution_count": 8,
   "metadata": {
    "collapsed": true
   },
   "outputs": [],
   "source": [
    "# wavファイル読み込み\n",
    "Classic_wav, Classic_fs = sf.read(Classic_file)\n",
    "\n",
    "# ステレオ2chの場合、モノラル音源に変換(左右の各音を2で割った音を足して作成．)\n",
    "if(Classic_wav.shape[1] == 1):\n",
    "    Classic_wavdata = Classic_wav\n",
    "    print(Classic_wav.shape[1])\n",
    "else:\n",
    "    Classic_wavdata = (0.5 * Classic_wav[:, 1]) + (0.5 * Classic_wav[:, 0])"
   ]
  },
  {
   "cell_type": "code",
   "execution_count": 9,
   "metadata": {
    "collapsed": true
   },
   "outputs": [],
   "source": [
    "# wavファイル読み込み\n",
    "Classic_noise_wav, Classic_noise_fs = sf.read(Classic_noise_file)\n",
    "\n",
    "# ステレオ2chの場合、モノラル音源に変換(左右の各音を2で割った音を足して作成．)\n",
    "if(Classic_noise_wav.shape[1] == 1):\n",
    "    Classic_noise_wavdata = Classic_noise_wav\n",
    "    print(Classic_noise_wav.shape[1])\n",
    "else:\n",
    "    Classic_noise_wavdata = (0.5 * Classic_noise_wav[:, 1]) + (0.5 * Classic_noise_wav[:, 0])"
   ]
  },
  {
   "cell_type": "code",
   "execution_count": null,
   "metadata": {
    "collapsed": true
   },
   "outputs": [],
   "source": []
  },
  {
   "cell_type": "code",
   "execution_count": 10,
   "metadata": {
    "collapsed": true
   },
   "outputs": [],
   "source": [
    "#NHKRadio_wavdata\n",
    "#NHKRadio_noise_wavdata\n",
    "#NHKBusiness_wavdata\n",
    "#NHKBusiness_noise_wavdata\n",
    "#Classic_wavdata\n",
    "#Classic_noise_wavdata"
   ]
  },
  {
   "cell_type": "code",
   "execution_count": null,
   "metadata": {
    "collapsed": true
   },
   "outputs": [],
   "source": []
  },
  {
   "cell_type": "code",
   "execution_count": 11,
   "metadata": {
    "collapsed": true
   },
   "outputs": [],
   "source": [
    "#Distance\n",
    "NHKRadio_euclidean = distance.euclidean(NHKRadio_wavdata,NHKRadio_noise_wavdata)\n",
    "NHKRadio_cosine = distance.cosine(NHKRadio_wavdata,NHKRadio_noise_wavdata)\n",
    "NHKBusiness_euclidean = distance.euclidean(NHKBusiness_wavdata,NHKBusiness_noise_wavdata)\n",
    "NHKBusiness_cosine = distance.cosine(NHKBusiness_wavdata,NHKBusiness_noise_wavdata)\n",
    "Classic_euclidean = distance.euclidean(Classic_wavdata,Classic_noise_wavdata)\n",
    "Classic_cosine = distance.cosine(Classic_wavdata,Classic_noise_wavdata)"
   ]
  },
  {
   "cell_type": "code",
   "execution_count": null,
   "metadata": {
    "collapsed": true
   },
   "outputs": [],
   "source": []
  },
  {
   "cell_type": "code",
   "execution_count": 12,
   "metadata": {
    "collapsed": true
   },
   "outputs": [],
   "source": [
    "Wavdata_Euclidean = pd.DataFrame([NHKRadio_euclidean,NHKBusiness_euclidean,Classic_euclidean],\n",
    "                  columns=['Euclidean'],\n",
    "                  index=['NHKRadio', 'NHKBusiness', 'Classic'])"
   ]
  },
  {
   "cell_type": "code",
   "execution_count": 13,
   "metadata": {
    "collapsed": true
   },
   "outputs": [],
   "source": [
    "Wavdata_Cosine = pd.DataFrame([NHKRadio_cosine,NHKBusiness_cosine,Classic_cosine],\n",
    "                  columns=['Cosine'],\n",
    "                  index=['NHKRadio', 'NHKBusiness', 'Classic'])"
   ]
  },
  {
   "cell_type": "code",
   "execution_count": null,
   "metadata": {
    "collapsed": true
   },
   "outputs": [],
   "source": []
  },
  {
   "cell_type": "code",
   "execution_count": 14,
   "metadata": {},
   "outputs": [],
   "source": [
    "Wavdata_Euclidean.to_csv('./Output/Noise_Computation_Signal_Reconstruction/Wavdata_Euclidean_' + NoiseType + '.tsv', index=True, sep='\\t')"
   ]
  },
  {
   "cell_type": "code",
   "execution_count": 15,
   "metadata": {
    "collapsed": true
   },
   "outputs": [],
   "source": [
    "Wavdata_Cosine.to_csv('./Output/Noise_Computation_Signal_Reconstruction/Wavdata_Cosine_' + NoiseType + '.tsv', index=True, sep='\\t')"
   ]
  },
  {
   "cell_type": "code",
   "execution_count": null,
   "metadata": {
    "collapsed": true
   },
   "outputs": [],
   "source": []
  },
  {
   "cell_type": "code",
   "execution_count": null,
   "metadata": {
    "collapsed": true
   },
   "outputs": [],
   "source": []
  },
  {
   "cell_type": "code",
   "execution_count": null,
   "metadata": {
    "collapsed": true
   },
   "outputs": [],
   "source": []
  }
 ],
 "metadata": {
  "kernelspec": {
   "display_name": "Python 2",
   "language": "python",
   "name": "python2"
  },
  "language_info": {
   "codemirror_mode": {
    "name": "ipython",
    "version": 2
   },
   "file_extension": ".py",
   "mimetype": "text/x-python",
   "name": "python",
   "nbconvert_exporter": "python",
   "pygments_lexer": "ipython2",
   "version": "2.7.13"
  }
 },
 "nbformat": 4,
 "nbformat_minor": 2
}
